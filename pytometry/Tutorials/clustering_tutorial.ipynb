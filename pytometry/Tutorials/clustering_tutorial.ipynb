{
 "cells": [
  {
   "cell_type": "markdown",
   "metadata": {},
   "source": [
    " ## Using different clustering methodes from the pytometry package.\n",
    " In this example we will evaluate some clustering algorithms for AnnData objects using the pytometry package."
   ]
  },
  {
   "cell_type": "code",
   "execution_count": 57,
   "metadata": {},
   "outputs": [],
   "source": [
    "from __future__ import division, print_function\n",
    "\n",
    "import sys\n",
    "MODULE_FULL_PATH = '/home/thomas/PycharmProjects/pytometry'\n",
    "sys.path.insert(1, MODULE_FULL_PATH)\n",
    "\n",
    "import csv\n",
    "from tkinter import Tk, filedialog, messagebox\n",
    "import anndata\n",
    "import FlowCytometryTools as fct\n",
    "from matplotlib.pylab import *\n",
    "from natsort import natsorted\n",
    "from sklearn.datasets import make_blobs\n",
    "import os.path\n",
    "from pathlib import Path\n",
    "import pytometry.clustering.cluster as cls\n",
    "import operator\n",
    "import pandas as pd"
   ]
  },
  {
   "cell_type": "markdown",
   "metadata": {},
   "source": [
    "Choose a maximum number of centers for your clustering. The clustering will be calculated for 2 centers until the maximum number of centers."
   ]
  },
  {
   "cell_type": "code",
   "execution_count": 58,
   "metadata": {},
   "outputs": [],
   "source": [
    "max_center = 4"
   ]
  },
  {
   "cell_type": "markdown",
   "metadata": {},
   "source": [
    "Lets create some testdata with 8 features and 3 centers. A Cluster object will also be initialized."
   ]
  },
  {
   "cell_type": "code",
   "execution_count": 59,
   "metadata": {},
   "outputs": [],
   "source": [
    "elements = range(4)\n",
    "\n",
    "for data in elements:\n",
    "    alldata, reference_Label = make_blobs(750, n_features=8, centers=3)\n",
    "    adata = anndata.AnnData(X=alldata)\n",
    "    cluster = cls.Cluster(adata, max_center)"
   ]
  },
  {
   "cell_type": "markdown",
   "metadata": {},
   "source": [
    "Now you can cluster your data with one of the four clustering methodes. K-means, c-means, Leiden algorithm and a SOM. Let's start with the Leiden algorithm, using a resolution of 1. Please note that the leiden algotihm doesn't need an a priori number of centers."
   ]
  },
  {
   "cell_type": "code",
   "execution_count": 60,
   "metadata": {
    "collapsed": true
   },
   "outputs": [
    {
     "data": {
      "text/plain": [
       "0.10418820381164551"
      ]
     },
     "execution_count": 60,
     "metadata": {},
     "output_type": "execute_result"
    }
   ],
   "source": [
    "    cluster.leidend_clustering(resolution=1)"
   ]
  },
  {
   "cell_type": "markdown",
   "metadata": {},
   "source": [
    "The clustering results will be stored in the .obs section, as well es in a variable \"cluster.community_cluster\"."
   ]
  },
  {
   "cell_type": "code",
   "execution_count": 61,
   "metadata": {},
   "outputs": [],
   "source": [
    "    leiden = cluster.adata.obs['leiden']\n",
    "    leiden = cluster.community_cluster"
   ]
  },
  {
   "cell_type": "markdown",
   "metadata": {},
   "source": [
    "Now the silhouette score and the gap score will be calculated. To calculate the gap score you will need the inertia first."
   ]
  },
  {
   "cell_type": "code",
   "execution_count": 62,
   "metadata": {
    "collapsed": true
   },
   "outputs": [
    {
     "name": "stderr",
     "output_type": "stream",
     "text": [
      "/home/thomas/PycharmProjects/pytometry/pytometry/clustering/cluster.py:255: VisibleDeprecationWarning: Creating an ndarray from ragged nested sequences (which is a list-or-tuple of lists-or-tuples-or ndarrays with different lengths or shapes) is deprecated. If you meant to do this, you must specify 'dtype=object' when creating the ndarray\n",
      "  s = [np.sum((np.array(clusters)[i] - center[i, :]) ** 2) for i in range(0, len(center))]\n"
     ]
    }
   ],
   "source": [
    "    cluster.silhouette_score(methode='leiden')\n",
    "\n",
    "\n",
    "    inertia = cluster.compute_inertia(label=cluster.community_cluster)\n",
    "    gap = cluster.gap_score(methode='leiden', inertia=inertia, n_center=len(np.unique(cluster.community_cluster)))"
   ]
  },
  {
   "cell_type": "markdown",
   "metadata": {},
   "source": [
    "Now we calculate the k-means clustering for the specified range of centers. The k-means package also contains a methode to calculate the optimal number of centers."
   ]
  },
  {
   "cell_type": "code",
   "execution_count": 63,
   "metadata": {},
   "outputs": [],
   "source": [
    "    cluster.k_means_clustering()\n",
    "    cluster.calc_optimal_k()\n",
    "    k = cluster.optimal_k"
   ]
  },
  {
   "cell_type": "markdown",
   "metadata": {},
   "source": [
    "Calculate the silhouette and the gap score for the specified range of centers."
   ]
  },
  {
   "cell_type": "code",
   "execution_count": 64,
   "metadata": {},
   "outputs": [],
   "source": [
    "    cluster.silhouette_score()\n",
    "    gaps = dict()\n",
    "    for n_center in range(2, max_center+1):\n",
    "        gaps[str(n_center)] = cluster.gap_score('kmeans', cluster.k_medoids_inertia[str(n_center)], n_center)\n",
    "    \n",
    "    observation = pd.Categorical(cluster.k_means_clust[str(k)].astype('U'), categories=natsorted(np.unique(cluster.community_cluster).astype('U')))\n",
    "    cluster.adata.obs['kmeans'] = observation"
   ]
  },
  {
   "cell_type": "markdown",
   "metadata": {},
   "source": [
    "Now we calculate the fuzzy c-means clustering for the specified range of centers. The integer representation is stored in the .obs section, the float (fuzzy) representation is stored in the .uns section. Calculate also the silhouette and the gap score for the specified range of centers."
   ]
  },
  {
   "cell_type": "code",
   "execution_count": 65,
   "metadata": {
    "collapsed": true
   },
   "outputs": [
    {
     "name": "stderr",
     "output_type": "stream",
     "text": [
      "/home/thomas/PycharmProjects/pytometry/pytometry/clustering/cluster.py:255: VisibleDeprecationWarning: Creating an ndarray from ragged nested sequences (which is a list-or-tuple of lists-or-tuples-or ndarrays with different lengths or shapes) is deprecated. If you meant to do this, you must specify 'dtype=object' when creating the ndarray\n",
      "  s = [np.sum((np.array(clusters)[i] - center[i, :]) ** 2) for i in range(0, len(center))]\n"
     ]
    }
   ],
   "source": [
    "    cluster.fuzzy_clustering()\n",
    "\n",
    "    observation = pd.Categorical(cluster.fuzzy_membership[str(k)], categories=np.unique(cluster.community_cluster))\n",
    "    cluster.adata.obs['fuzzy_int'] = observation\n",
    "    \n",
    "    cluster.silhouette_score(methode='fuzzy')\n",
    "\n",
    "    gaps = dict()\n",
    "    for i in range(2, max_center+1):\n",
    "        inertia = cluster.compute_inertia(label=cluster.fuzzy_membership[str(i)])\n",
    "        gap = cluster.gap_score(methode='fuzzy', inertia=inertia, n_center=i)\n",
    "        gaps[str(i)] = gap\n",
    "\n",
    "    cluster.adata.uns['fuzzy_float'] = cluster.fuzzy_cluster[str(cluster.optimal_k)]"
   ]
  },
  {
   "cell_type": "markdown",
   "metadata": {},
   "source": [
    "Lastly we calculate the SOM clustering. Again we calculate the silhouette and the gap score for the specified range of centers."
   ]
  },
  {
   "cell_type": "code",
   "execution_count": 66,
   "metadata": {
    "collapsed": true
   },
   "outputs": [
    {
     "name": "stderr",
     "output_type": "stream",
     "text": [
      "/home/thomas/PycharmProjects/pytometry/pytometry/clustering/cluster.py:255: VisibleDeprecationWarning: Creating an ndarray from ragged nested sequences (which is a list-or-tuple of lists-or-tuples-or ndarrays with different lengths or shapes) is deprecated. If you meant to do this, you must specify 'dtype=object' when creating the ndarray\n",
      "  s = [np.sum((np.array(clusters)[i] - center[i, :]) ** 2) for i in range(0, len(center))]\n"
     ]
    }
   ],
   "source": [
    "    cluster.som_clustering()\n",
    "    cluster.silhouette_score(methode='SOM')\n",
    "    for i in range(2, max_center + 1):\n",
    "        inertia = cluster.compute_inertia(label=cluster.SOM_label[str(i)])\n",
    "        gap = cluster.gap_score(methode='SOM', inertia=inertia, n_center=len(np.unique(cluster.SOM_label[str(i)])))\n",
    "        gaps[str(i)] = gap\n",
    "\n",
    "    observation = pd.Categorical(cluster.SOM_label[str(k)], categories=np.unique(k))\n",
    "    cluster.adata.obs['som'] = observation"
   ]
  },
  {
   "cell_type": "markdown",
   "metadata": {},
   "source": [
    "For all four clustering methodes there is also the option to return the runtime."
   ]
  },
  {
   "cell_type": "code",
   "execution_count": 67,
   "metadata": {},
   "outputs": [
    {
     "name": "stdout",
     "output_type": "stream",
     "text": [
      "0.06450653076171875\n"
     ]
    }
   ],
   "source": [
    "time = cluster.leidend_clustering(resolution=1)\n",
    "print(time)"
   ]
  },
  {
   "cell_type": "code",
   "execution_count": 68,
   "metadata": {},
   "outputs": [
    {
     "name": "stdout",
     "output_type": "stream",
     "text": [
      "0.13340258598327637\n"
     ]
    }
   ],
   "source": [
    "time = cluster.k_means_clustering()\n",
    "print(time)"
   ]
  },
  {
   "cell_type": "code",
   "execution_count": 69,
   "metadata": {},
   "outputs": [
    {
     "name": "stdout",
     "output_type": "stream",
     "text": [
      "0.014683961868286133\n"
     ]
    }
   ],
   "source": [
    "time = cluster.fuzzy_clustering()\n",
    "print(time)"
   ]
  },
  {
   "cell_type": "markdown",
   "metadata": {},
   "source": [
    "For the SOM clustering you can return the cluster index, the calculated weights and the runtime"
   ]
  },
  {
   "cell_type": "code",
   "execution_count": 70,
   "metadata": {},
   "outputs": [
    {
     "name": "stdout",
     "output_type": "stream",
     "text": [
      "0.08607745170593262\n"
     ]
    }
   ],
   "source": [
    "index, weights, time = cluster.som_clustering()\n",
    "print(time)"
   ]
  }
 ],
 "metadata": {
  "kernelspec": {
   "display_name": "pytometry2",
   "language": "python",
   "name": "pytometry2"
  },
  "language_info": {
   "codemirror_mode": {
    "name": "ipython",
    "version": 3
   },
   "file_extension": ".py",
   "mimetype": "text/x-python",
   "name": "python",
   "nbconvert_exporter": "python",
   "pygments_lexer": "ipython3",
   "version": "3.7.7"
  }
 },
 "nbformat": 4,
 "nbformat_minor": 4
}
