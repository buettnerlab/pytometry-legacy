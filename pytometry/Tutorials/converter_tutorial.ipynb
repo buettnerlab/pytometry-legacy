{
 "cells": [
  {
   "cell_type": "markdown",
   "metadata": {},
   "source": [
    "## Load and convert one or multiple files via GUI.\n",
    "You can select .fsc and .h5ad files simultaneously. \n",
    " .fsc files will be converted and returned as an AnnData object, and will be saved as a h5ad file, if the save option is selected.\n",
    ".h5ad files will be converted and returned as an FlowCytometryTools object, and will be saved as a fcs file, if the save option is selected.\n",
    "If multiple files were selected, a list of objects will be returned.\n",
    "\n",
    "The converted files are stored in the same folder as the source file."
   ]
  },
  {
   "cell_type": "code",
   "execution_count": null,
   "metadata": {
    "scrolled": true
   },
   "outputs": [],
   "source": [
    "import sys\n",
    "MODULE_FULL_PATH = '/home/thomas/PycharmProjects/pytometry'\n",
    "sys.path.insert(1, MODULE_FULL_PATH)\n",
    "\n",
    "from pytometry.converter import fileconverter\n",
    "from pytometry.Preprocessing import process_data\n"
   ]
  },
  {
   "cell_type": "code",
   "execution_count": 2,
   "metadata": {
    "scrolled": false
   },
   "outputs": [
    {
     "data": {
      "text/plain": [
       "[]"
      ]
     },
     "execution_count": 2,
     "metadata": {},
     "output_type": "execute_result"
    }
   ],
   "source": [
    "fileconverter.readandconvert()"
   ]
  },
  {
   "cell_type": "markdown",
   "metadata": {},
   "source": [
    "\n",
    "You can also specify a file to convert via file path."
   ]
  },
  {
   "cell_type": "code",
   "execution_count": 3,
   "metadata": {},
   "outputs": [],
   "source": [
    "andata = fileconverter.readandconvert('/home/thomas/01.fcs')\n"
   ]
  },
  {
   "cell_type": "code",
   "execution_count": 4,
   "metadata": {},
   "outputs": [
    {
     "data": {
      "text/plain": [
       "[<FCMeasurement 'FCS-file'>]"
      ]
     },
     "execution_count": 4,
     "metadata": {},
     "output_type": "execute_result"
    }
   ],
   "source": [
    "fileconverter.readandconvert('/home/thomas/001_converted.h5ad')"
   ]
  },
  {
   "cell_type": "markdown",
   "metadata": {},
   "source": [
    "If your .fcs file contains a spillover matrix you can compute the bleed through after the conversion."
   ]
  },
  {
   "cell_type": "code",
   "execution_count": 5,
   "metadata": {
    "scrolled": false
   },
   "outputs": [
    {
     "data": {
      "text/plain": [
       "AnnData object with n_obs × n_vars = 129467 × 16 \n",
       "    uns: 'meta', 'spill_mat', 'comp_mat'\n",
       "    layers: 'original'"
      ]
     },
     "execution_count": 5,
     "metadata": {},
     "output_type": "execute_result"
    }
   ],
   "source": [
    "process_data.compute_bleedthr(andata[0])"
   ]
  },
  {
   "cell_type": "markdown",
   "metadata": {},
   "source": [
    "If you want to choose only the 'area' or the 'hight' channels use the following methode.\n",
    "Note: The 'SC-H', 'SC-A', 'Width' and 'Time' channels will be excludet in the result. "
   ]
  },
  {
   "cell_type": "code",
   "execution_count": 6,
   "metadata": {},
   "outputs": [
    {
     "data": {
      "text/plain": [
       "AnnData object with n_obs × n_vars = 129467 × 5 \n",
       "    var: 0\n",
       "    uns: 'meta', 'spill_mat', 'comp_mat'"
      ]
     },
     "execution_count": 6,
     "metadata": {},
     "output_type": "execute_result"
    }
   ],
   "source": [
    "process_data.split_area(andata[0], option='area')"
   ]
  }
 ],
 "metadata": {
  "kernelspec": {
   "display_name": "pytometry2",
   "language": "python",
   "name": "pytometry2"
  },
  "language_info": {
   "codemirror_mode": {
    "name": "ipython",
    "version": 3
   },
   "file_extension": ".py",
   "mimetype": "text/x-python",
   "name": "python",
   "nbconvert_exporter": "python",
   "pygments_lexer": "ipython3",
   "version": "3.7.7"
  }
 },
 "nbformat": 4,
 "nbformat_minor": 4
}
