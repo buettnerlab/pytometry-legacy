{
 "cells": [
  {
   "cell_type": "code",
   "execution_count": 1,
   "id": "eb069f5a",
   "metadata": {},
   "outputs": [],
   "source": [
    "import scanpy as sc\n",
    "import anndata\n",
    "#import pl\n",
    "#import tl\n",
    "import numpy as np\n",
    "import time as time\n",
    "\n",
    "# Load Dataset\n",
    "filelocation = r\"datasets/VBh_converted.h5ad\"\n",
    "adata = anndata.read_h5ad(filelocation)\n",
    "\n",
    "# subsampling\n",
    "#sc.pp.subsample(adata, 0.2)\n",
    "\n",
    "# normalizing\n",
    "adata.X = np.arcsinh(adata.X / 10)\n",
    "\n",
    "# calc knn\n",
    "sc.pp.neighbors(adata, n_neighbors=20)"
   ]
  },
  {
   "cell_type": "markdown",
   "id": "f0d9ff60",
   "metadata": {},
   "source": [
    "**HUMAP function**"
   ]
  },
  {
   "cell_type": "code",
   "execution_count": 2,
   "id": "5cd805b6",
   "metadata": {},
   "outputs": [],
   "source": [
    "from scipy.sparse import csr_matrix, spdiags\n",
    "from scipy.sparse.linalg import eigs\n",
    "\n",
    "import matplotlib.pyplot as plt\n",
    "\n",
    "def _humap(adata, n_scales: int = 1, factor: float = 0.5, copy: bool = False):\n",
    "    \n",
    "    # check if knn graph has been calculated beforehand\n",
    "    assert 'connectivities' in adata.obsp.keys(), \"No knn graph found. Calculate with scanpy.tl.neighbors(...)\"\n",
    "    \n",
    "    # create list with copy of adata as first element\n",
    "    scales = list()\n",
    "    scales.append(adata.copy())\n",
    "    \n",
    "    for s in range(n_scales):\n",
    "        print(f\"Calculating scale {s}\")\n",
    "        ### getting landmarks\n",
    "        \n",
    "        # copy last scale\n",
    "        speichi = scales[-1].copy()\n",
    "        \n",
    "        #sc.pp.neighbors(speichi)\n",
    "        c = speichi.obsp['connectivities']\n",
    "        T = c.multiply(csr_matrix(1.0 / np.abs(c).sum(1)))\n",
    "        D, V = eigs(T.T, which='LM')\n",
    "\n",
    "        # landmark probabilities\n",
    "        pi = V[:, 0]\n",
    "        pi = pi.real\n",
    "        pi /= pi.sum()\n",
    "\n",
    "        ### finding inflection point\n",
    "        \n",
    "        # TODO find ElbowInflection point and \"cut\" dataset there\n",
    "        # find inflection point\n",
    "        inflectionPoint = findElbowInflection(pi[pi.argsort()][::-1])\n",
    "        print(f\"Found inflection point at {inflectionPoint}\")\n",
    "        \n",
    "        ### subsample data\n",
    "        \n",
    "        # indices of landmarks sorted by probability\n",
    "        lm_ind = pi.argsort()\n",
    "        \n",
    "        # speichi = speichi[lm_ind[:int(len(speichi)*factor)]] # version without inflectionPoint\n",
    "        speichi = speichi[lm_ind[:inflectionPoint]]\n",
    "\n",
    "        print(f\"Calculating scale {s} with {len(speichi)} cells\")\n",
    "        \n",
    "        # plotting\n",
    "        plt.plot(pi[pi.argsort()][::-1])\n",
    "        plt.vlines(inflectionPoint, ymin=0, ymax=max(pi))\n",
    "        plt.show()\n",
    "        \n",
    "        # (re)calculate knn\n",
    "        sc.pp.neighbors(speichi, n_neighbors=20)\n",
    "        # calculate umap embedding\n",
    "        sc.tl.umap(speichi)\n",
    "        scales.append(speichi)\n",
    "        \n",
    "    # removing first element as it is a copy of adata\n",
    "    scales.pop(0)\n",
    "    \n",
    "    # add list of scales to .uns\n",
    "    adata.uns['HUMAP_scales'] = scales\n",
    "    return adata if copy else None\n",
    "    \n"
   ]
  },
  {
   "cell_type": "code",
   "execution_count": 25,
   "id": "84ea5cc3",
   "metadata": {},
   "outputs": [],
   "source": [
    "def findElbowInflection(valArray):\n",
    "    infPoint = 0\n",
    "    \n",
    "    dx = 1\n",
    "    y = valArray\n",
    "    # dy = diff(y)/dx\n",
    "    dy = np.diff(y, n=1)/dx\n",
    "    \n",
    "    print(\"Plotting derivative\")\n",
    "    plt.plot(dy)\n",
    "    plt.show()\n",
    "    \n",
    "    # TODO why always different results?\n",
    "    # TODO why not smooth? --> y is descending\n",
    "    \n",
    "    #infPoint = np.argmax(dy==0)\n",
    "    infPoint = np.argmax(dy==max(dy))\n",
    "    \n",
    "    #plt.plot(dy[:int(len(dy)/20)])\n",
    "    #plt.show()\n",
    "    \n",
    "    ## version: CUMSUM --> cut where cumsum > 10%\n",
    "    # speichi = 0\n",
    "    # for i in range(len(valArray)):\n",
    "    #     speichi += valArray[i]\n",
    "    #     if speichi > 0.1:\n",
    "    #         infPoint = i\n",
    "    #         break\n",
    "    \n",
    "    \n",
    "    #from scipy.signal import savgol_filter\n",
    "    # yhat = savgol_filter(dy, 201, 3)\n",
    "    # plt.plot(yhat[:int(len(yhat)/20)])\n",
    "    # plt.show()\n",
    "    \n",
    "    return infPoint\n",
    "    "
   ]
  },
  {
   "cell_type": "code",
   "execution_count": 28,
   "id": "f27b7f1d",
   "metadata": {},
   "outputs": [
    {
     "name": "stdout",
     "output_type": "stream",
     "text": [
      "Calculating scale 0\n",
      "True\n",
      "Plotting derivative\n"
     ]
    },
    {
     "data": {
      "image/png": "[encoded data removed]",
      "text/plain": [
       "<Figure size 432x288 with 1 Axes>"
      ]
     },
     "metadata": {
      "needs_background": "light"
     },
     "output_type": "display_data"
    },
    {
     "name": "stdout",
     "output_type": "stream",
     "text": [
      "Found inflection point at 1393\n",
      "Calculating scale 0 with 1393 cells\n"
     ]
    },
    {
     "data": {
      "image/png": "[encoded data removed]",
      "text/plain": [
       "<Figure size 432x288 with 1 Axes>"
      ]
     },
     "metadata": {
      "needs_background": "light"
     },
     "output_type": "display_data"
    },
    {
     "name": "stdout",
     "output_type": "stream",
     "text": [
      "Calculating scale 1\n",
      "True\n",
      "Plotting derivative\n"
     ]
    },
    {
     "data": {
      "image/png": "[encoded data removed]",
      "text/plain": [
       "<Figure size 432x288 with 1 Axes>"
      ]
     },
     "metadata": {
      "needs_background": "light"
     },
     "output_type": "display_data"
    },
    {
     "name": "stdout",
     "output_type": "stream",
     "text": [
      "Found inflection point at 259\n",
      "Calculating scale 1 with 259 cells\n"
     ]
    },
    {
     "data": {
      "image/png": "[encoded data removed]",
      "text/plain": [
       "<Figure size 432x288 with 1 Axes>"
      ]
     },
     "metadata": {
      "needs_background": "light"
     },
     "output_type": "display_data"
    }
   ],
   "source": [
    "_humap(adata, n_scales = 2, factor = 0.4)"
   ]
  },
  {
   "cell_type": "code",
   "execution_count": null,
   "id": "1a6537f6",
   "metadata": {},
   "outputs": [],
   "source": [
    "for s in adata.uns['HUMAP_scales']:\n",
    "    print(\"Scale\")\n",
    "    sc.pl.umap(s, color=adata.var_names.values[0])"
   ]
  },
  {
   "cell_type": "markdown",
   "id": "cdd52cde",
   "metadata": {},
   "source": [
    "**Calculate Landmarks**"
   ]
  },
  {
   "cell_type": "code",
   "execution_count": null,
   "id": "697c865e",
   "metadata": {},
   "outputs": [],
   "source": [
    "from scipy.sparse import csr_matrix, spdiags\n",
    "from scipy.sparse.linalg import eigs\n",
    "# concentrated\n",
    "\n",
    "c = adata.obsp['connectivities']\n",
    "\n",
    "T = c.multiply(csr_matrix(1.0 / np.abs(c).sum(1)))\n",
    "\n",
    "D, V = eigs(T.T, which='LM')\n",
    "\n",
    "pi = V[:, 0]\n",
    "\n",
    "pi = pi.real\n",
    "\n",
    "pi /= pi.sum()\n",
    "\n",
    "Pi = spdiags(pi, 0, pi.shape[0], pi.shape[0])\n",
    "\n",
    "plt.plot(pi[pi.argsort()][::-1])\n",
    "plt.show()\n"
   ]
  },
  {
   "cell_type": "code",
   "execution_count": null,
   "id": "50b46f20",
   "metadata": {},
   "outputs": [],
   "source": [
    "# copy original anndata object\n",
    "speichi = adata.copy()\n",
    "\n",
    "percentage = 0.01\n",
    "# reduce it to certain fraction (landmarks)\n",
    "speichi = speichi[pi.argsort()[:int(len(adata)*percentage)]]\n",
    "print(f\"Taking {percentage*100}% of all cells as landmarks\")\n",
    "print(f\"--> {len(speichi.X)} of originally {len(adata.X)} cells\")\n",
    "\n",
    "# normalizing\n",
    "speichi.X = np.arcsinh(speichi.X / 10)\n",
    "# (re)calculate knn\n",
    "sc.pp.neighbors(speichi, n_neighbors=20)\n",
    "# calculate umap embedding\n",
    "sc.tl.umap(speichi)\n",
    "# plot umap embedding\n",
    "sc.pl.umap(speichi, color=adata.var_names.values)"
   ]
  },
  {
   "cell_type": "code",
   "execution_count": null,
   "id": "7430b0e6",
   "metadata": {
    "scrolled": false
   },
   "outputs": [],
   "source": [
    "for part in np.linspace(1,0.1,9):\n",
    "    # copy original anndata object\n",
    "    speichi = adata.copy()\n",
    "    # reduce it to certain fraction (landmarks)\n",
    "    speichi = speichi[pi.argsort()[:int(len(adata)*part)]]\n",
    "    \n",
    "    print(f\"{len(speichi.X)} of originally {len(adata.X)} cells\")\n",
    "    \n",
    "    # normalizing\n",
    "    speichi.X = np.arcsinh(speichi.X / 10)\n",
    "    # (re)calculate knn\n",
    "    sc.pp.neighbors(speichi, n_neighbors=20)\n",
    "    # calculate umap embedding\n",
    "    sc.tl.umap(speichi)\n",
    "    # plot umap embedding\n",
    "    sc.pl.umap(speichi, color=adata.var_names.values[4])"
   ]
  },
  {
   "cell_type": "code",
   "execution_count": null,
   "id": "1260cd32",
   "metadata": {},
   "outputs": [],
   "source": [
    "def arrays_equal(a, b):\n",
    "    if a.shape != b.shape:\n",
    "        return False\n",
    "    for ai, bi in zip(a.flat, b.flat):\n",
    "        if ai != bi:\n",
    "            return False\n",
    "    return True"
   ]
  }
 ],
 "metadata": {
  "kernelspec": {
   "display_name": "Python 3",
   "language": "python",
   "name": "python3"
  },
  "language_info": {
   "codemirror_mode": {
    "name": "ipython",
    "version": 3
   },
   "file_extension": ".py",
   "mimetype": "text/x-python",
   "name": "python",
   "nbconvert_exporter": "python",
   "pygments_lexer": "ipython3",
   "version": "3.8.8"
  }
 },
 "nbformat": 4,
 "nbformat_minor": 5
}
